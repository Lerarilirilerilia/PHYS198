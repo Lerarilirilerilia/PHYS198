{
  "nbformat": 4,
  "nbformat_minor": 0,
  "metadata": {
    "colab": {
      "name": "PHYS-198-Homework-01-2021.ipynb",
      "provenance": [],
      "collapsed_sections": [],
      "include_colab_link": true
    },
    "kernelspec": {
      "name": "python3",
      "display_name": "Python 3"
    }
  },
  "cells": [
    {
      "cell_type": "markdown",
      "metadata": {
        "id": "view-in-github",
        "colab_type": "text"
      },
      "source": [
        "<a href=\"https://colab.research.google.com/github/Lerarilirilerilia/PHYS198/blob/main/PHYS_198_Homework_01_2021.ipynb\" target=\"_parent\"><img src=\"https://colab.research.google.com/assets/colab-badge.svg\" alt=\"Open In Colab\"/></a>"
      ]
    },
    {
      "cell_type": "markdown",
      "metadata": {
        "id": "Gm2jvuER5xZ_"
      },
      "source": [
        "# Introduction: Google Colab"
      ]
    },
    {
      "cell_type": "markdown",
      "metadata": {
        "id": "xJbHIBz0go0X"
      },
      "source": [
        "In this homework, we start with a few relatively simple problems to get you familiarized with Python and Google Colab, and end with a couple of more interesting problems.\n",
        "\n",
        "As you know by now, Google Colaboratory (Colab) is an interactive interface to Python, similar to other notebook interfaces such as [Jupyter](https://jupyter.org/) notebooks. I recommend taking a quick look at Google's documentation pages for Colaboratory, the following may be the most relevant at this point:\n",
        "-   [Overview of Colaboratory Features](https://colab.research.google.com/notebooks/basic_features_overview.ipynb)"
      ]
    },
    {
      "cell_type": "markdown",
      "metadata": {
        "id": "hkl8x8DMiPO2"
      },
      "source": [
        "Colab/Jupyter notebooks consist of \"cells\" such as this one. Each cell can contain formatted text or Python code. This cell contains text. The next cell contains Python code. You can execute Python cells by pressing the \"play\" button that appears when you move the mouse pointer on the cell, or by clicking on the cell, and then clicking Shift+Enter. (There are other keyboard shortcuts for many of the things you can do in Colab---try out the menu item `Tools -> Keyboard shortcuts`)"
      ]
    },
    {
      "cell_type": "code",
      "metadata": {
        "id": "tY2v1jfBjIbs"
      },
      "source": [
        "# this cell contains python code; execute this by pressing the\n",
        "# \"play\" button on the left\n",
        "print(\"Hello world!\")"
      ],
      "execution_count": null,
      "outputs": []
    },
    {
      "cell_type": "markdown",
      "metadata": {
        "id": "l-43m7U_jXnD"
      },
      "source": [
        "# Problem 1: My first Python commands"
      ]
    },
    {
      "cell_type": "markdown",
      "metadata": {
        "id": "3gVQGaYgjkwy"
      },
      "source": [
        "Here is a simple Python command. Run it, and then write another similar command that performs a simple mathematical operation, and then run the cell."
      ]
    },
    {
      "cell_type": "code",
      "metadata": {
        "id": "Zwe4BgijjzJp"
      },
      "source": [
        "# Example cell: run this\n",
        "print(3 + 5)"
      ],
      "execution_count": null,
      "outputs": []
    },
    {
      "cell_type": "code",
      "metadata": {
        "id": "H9kEsmR2j1kx"
      },
      "source": [
        "# Now it is your turn: write a Python command that does a simple arithmetic operation, and execute it"
      ],
      "execution_count": null,
      "outputs": []
    },
    {
      "cell_type": "markdown",
      "metadata": {
        "id": "toS5tRcfj-mU"
      },
      "source": [
        "# Problem 2: Create and modify a list"
      ]
    },
    {
      "cell_type": "markdown",
      "metadata": {
        "id": "5NLggixHkKF0"
      },
      "source": [
        "Here is a cell that creates a list, inspects/prints it, and then modifies it. Execute this cell and inspect the output and make sure you are able to follow what each command is doing."
      ]
    },
    {
      "cell_type": "code",
      "metadata": {
        "id": "7QKeXAQ4kQNR"
      },
      "source": [
        "# execute this cell and inspect the output\n",
        "my_list_a = [1, 2, 3, 4, 5]\n",
        "\n",
        "# look at the whole list\n",
        "print(my_list_a)\n",
        "\n",
        "# look at \"element number zero\" (i.e., the \"first element\")\n",
        "print(my_list_a[0])\n",
        "\n",
        "# look at the last element\n",
        "print(my_list_a[-1])\n",
        "\n",
        "# modify the last element\n",
        "my_list_a[3] = 100\n",
        "\n",
        "# look at the modified list\n",
        "print(my_list_a)"
      ],
      "execution_count": null,
      "outputs": []
    },
    {
      "cell_type": "markdown",
      "metadata": {
        "id": "coIZ8sQ7kyfD"
      },
      "source": [
        "Not it's your turn: Create a list with **5 integer elements**, print the list, then update one of its elements, and print the list again."
      ]
    },
    {
      "cell_type": "code",
      "metadata": {
        "id": "7STqNuxLkB8S"
      },
      "source": [
        "# your turn: create a list/print/modify/print\n",
        "\n",
        "my_list_b = "
      ],
      "execution_count": null,
      "outputs": []
    },
    {
      "cell_type": "markdown",
      "metadata": {
        "id": "Q1LiOm07k_et"
      },
      "source": [
        "# Problem 3: Conditionals"
      ]
    },
    {
      "cell_type": "markdown",
      "metadata": {
        "id": "A5ZXnT5bABPH"
      },
      "source": [
        "Here is a cell that does some checks on the list that you have created above. Execute this cell and inspect the output. \n",
        "- **Note**: If you skipped Problem 2, some of the commands below will not work, so make sure you've done Problem 2 before continuing."
      ]
    },
    {
      "cell_type": "code",
      "metadata": {
        "id": "i8mK_JIPlB2D"
      },
      "source": [
        "if my_list_b == []: # Checks if the list is empty or not\n",
        "  print('The list b is empty')\n",
        "else:\n",
        "  print('The first element of the list \"b\" is', my_list_b[0])"
      ],
      "execution_count": null,
      "outputs": []
    },
    {
      "cell_type": "markdown",
      "metadata": {
        "id": "xeKr-I5XCHmh"
      },
      "source": [
        "Now it's your turn:\n",
        "- Create an if/else statement to \n",
        "   - check whether the first element of list `a` is greater than the first element of list `b`, and \n",
        "   - to print the result of your check"
      ]
    },
    {
      "cell_type": "code",
      "metadata": {
        "id": "R2aOdMu_CHRU"
      },
      "source": [
        "# your turn: create a conditional statement to compare the\n",
        "# first elements of the lists a and b, and print the outcome\n"
      ],
      "execution_count": null,
      "outputs": []
    },
    {
      "cell_type": "markdown",
      "metadata": {
        "id": "3pggRfGdC3XA"
      },
      "source": [
        "# Problem 4: Loops "
      ]
    },
    {
      "cell_type": "markdown",
      "metadata": {
        "id": "9G2_72kXngx1"
      },
      "source": [
        "Here is a cell that loops over all elements of list `a`, and prints 10 plus each element. Execute the cell and inspect the output."
      ]
    },
    {
      "cell_type": "code",
      "metadata": {
        "id": "h9inU64SnX8F"
      },
      "source": [
        "for element_a in my_list_a:\n",
        "  print(10 + element_a)"
      ],
      "execution_count": null,
      "outputs": []
    },
    {
      "cell_type": "markdown",
      "metadata": {
        "id": "GI8vKsfDDNJX"
      },
      "source": [
        "Here is a cell that traverses all **pairs** elements of lists `a` and `b` and prints them. Execute this cell and inspect the output.\n",
        "- Note that this is a \"**double loop**\", or a \"**nested loop**\". In other words, it is a loop within a loop.\n",
        "\n",
        "Try to think about what is happening when this runs, try to understand how it works."
      ]
    },
    {
      "cell_type": "code",
      "metadata": {
        "id": "qXXE-cmaDWWF"
      },
      "source": [
        "for element_a in my_list_a:\n",
        "  for element_b in my_list_b:\n",
        "    print(element_a, element_b)\n"
      ],
      "execution_count": null,
      "outputs": []
    },
    {
      "cell_type": "markdown",
      "metadata": {
        "id": "kYyVPNEhnGUc"
      },
      "source": [
        "Note the order of the output:\n",
        "- for each given element of list `a`, all the elements of list `b` are being printed one by one.\n",
        "\n",
        "The \"**inner loop**\" is over the list b, and the \"**outer loop**\" is over list a."
      ]
    },
    {
      "cell_type": "markdown",
      "metadata": {
        "id": "x-37uhLiEYk0"
      },
      "source": [
        "Not it is your turn: Create a nested `for` loop to go over pairs of elements of lists `a` and `b`, and\n",
        "- make a comparison between the two elements,\n",
        "- print the result of each comparison. \n",
        "\n",
        "More explicitly, you are being asked to `print` one line for each pair from `a` and `b`, telling whether the element of a is greater than the element of b, or not. I.e., we want one line for each pair, of the form\n",
        "\n",
        "```\n",
        "Element number 2 of list `a` is greater than element number 3 of list `b`\n",
        "```\n",
        "\n",
        "etc."
      ]
    },
    {
      "cell_type": "code",
      "metadata": {
        "id": "SdDv2HiVFJ46"
      },
      "source": [
        "# Your code here"
      ],
      "execution_count": null,
      "outputs": []
    },
    {
      "cell_type": "markdown",
      "metadata": {
        "id": "SYF0pP1b9Uzq"
      },
      "source": [
        "# Problem 5: Defining a function"
      ]
    },
    {
      "cell_type": "markdown",
      "metadata": {
        "id": "1MGxO48u9XvL"
      },
      "source": [
        "We learned how to define functions in Python. Here is an example. Remember that in Python, for integers `m` and `n`, the command\n",
        "```\n",
        "  m % y\n",
        "```\n",
        "returns the remainder of the division of `m` by `n`.\n",
        " \n",
        " Run this cell and inspect the output:"
      ]
    },
    {
      "cell_type": "code",
      "metadata": {
        "colab": {
          "base_uri": "https://localhost:8080/"
        },
        "id": "b4754o2KBer7",
        "outputId": "0937fa9c-0d96-4bb2-c111-fb6a347433d1"
      },
      "source": [
        "# function that returns the remainder of division by 2 \n",
        "def f(x):\n",
        "  return x % 2\n",
        "\n",
        "print(f(10))\n",
        "print(f(5))\n",
        "print(f(-1))"
      ],
      "execution_count": null,
      "outputs": [
        {
          "output_type": "stream",
          "text": [
            "0\n",
            "1\n",
            "1\n"
          ],
          "name": "stdout"
        }
      ]
    },
    {
      "cell_type": "markdown",
      "metadata": {
        "id": "p2TfnNRtDeRO"
      },
      "source": [
        "Now it is your turn, define a function `last2digits(n)` that returns the last two digits of a positive integer `n`. For example, we want \n",
        "\n",
        "- `last2digits(123)` to be `23`\n",
        "- `last2digits(9876)` to be `76`\n",
        "\n",
        "etc. Think a bit first, about how you can accomplish this."
      ]
    },
    {
      "cell_type": "code",
      "metadata": {
        "id": "D0QnCHutEGt8",
        "colab": {
          "base_uri": "https://localhost:8080/"
        },
        "outputId": "328a7b03-74f6-4a10-a3bc-2218c70d4d7e"
      },
      "source": [
        "def last2digits(m):\n",
        "  return m % 100\n",
        "\n",
        "print(last2digits(3^20))\n",
        "print(last2digits(14^11))"
      ],
      "execution_count": 80,
      "outputs": [
        {
          "output_type": "stream",
          "name": "stdout",
          "text": [
            "23\n",
            "5\n"
          ]
        }
      ]
    },
    {
      "cell_type": "markdown",
      "metadata": {
        "id": "Jy66sMmjGQyd"
      },
      "source": [
        "# Problem 6: Finding the Max Element"
      ]
    },
    {
      "cell_type": "markdown",
      "metadata": {
        "id": "7ST-YrYeGTek"
      },
      "source": [
        "Write a function `maxelement(a)` that returns the largest element in list `a`. (You are **not** allowed to use Python built-in `max` function!)\n",
        "\n",
        "Note that this is an actual programming exercise; it is perhaps a bit more nontrivial than the exercises above!\n",
        "\n",
        "Here is a possible approach (don't read if you don't want a hint/spoiler!):\n",
        "- Start with a variable called `my_max`, and set it to the first element of your list\n",
        "- Loop over all the elements of the list, and if the current element is larger than `my_max`, update `my_max` to set it to the current element\n",
        "\n",
        "This way, when the loop is done, `my_max` would equal to the largest element. So when you are done with going over all the elements, return `my_max`.\n",
        "\n"
      ]
    },
    {
      "cell_type": "code",
      "metadata": {
        "id": "obAW4HBKv9Gu"
      },
      "source": [
        "def maxelement(list):\n",
        "  my_max = list[0]\n",
        "  for i in range(len(list)):\n",
        "    if my_max <= i:\n",
        "      my_max = list[i]\n",
        "    else: \n",
        "      continue\n",
        "  return my_max       "
      ],
      "execution_count": 75,
      "outputs": []
    },
    {
      "cell_type": "markdown",
      "metadata": {
        "id": "PgTCWP299Lbq"
      },
      "source": [
        "# Problem 7: Solving quadratic equations, representing complex numbers"
      ]
    },
    {
      "cell_type": "markdown",
      "metadata": {
        "id": "MKim53x6LpZa"
      },
      "source": [
        "Here is the most involved problem of this homework.\n",
        "\n",
        "Write a function `quadroot(a, b, c)` that takes in three numbers, `a`, `b`, `c`, representing a polynomial\n",
        "$$\n",
        "ax^2 + bx + c\n",
        "$$\n",
        "Your function should return the two roots of this polynomial.\n",
        "\n",
        "Notes:\n",
        "- You are allowed to use NumPy's `sqrt` function, but you should not use any complex number capabilities of Python or its packages\n",
        "- Your function should return a list with two elements, each element representing one of the roots (if there is just one root, do something reasonable, e.g., return the same root twice)\n",
        "- You are expected to deal with the possibility of complex roots, **without** using the existing complex number capabilities of Python. You are requested to represent a complex number $u + iv$ as a list `[u, v]`\n",
        "\n",
        "\n",
        "Thus: Your function should return a list with two elements representing two possibly complex roots, so **your return value should be a list where each element itself is a list**.\n"
      ]
    },
    {
      "cell_type": "code",
      "metadata": {
        "id": "yC-5iTMYL_8u"
      },
      "source": [
        "import numpy as np\n",
        "\n",
        "def quadroot(a, b, c):\n",
        "  delta = b**2 - 4*a*c\n",
        "  if delta < 0:\n",
        "    delta = -delta\n",
        "    u = -b/(2*a)\n",
        "    v_1 = np.sqrt(delta)/(2*a)\n",
        "    v_2 = -np.sqrt(delta)/(2*a)\n",
        "    return [u, v_1], [u, v_2]\n",
        "  else:\n",
        "    u_1 = (-b + np.sqrt(delta))/(2*a)\n",
        "    u_2 = (-b - np.sqrt(delta))/(2*a)\n",
        "    v = 0 \n",
        "    return [u_1, v], [u_2, v]"
      ],
      "execution_count": 78,
      "outputs": []
    },
    {
      "cell_type": "markdown",
      "metadata": {
        "id": "dWgjMCJump2G"
      },
      "source": [
        "Here are two simple examples to check your code: Try this after defining your quadroot function above."
      ]
    },
    {
      "cell_type": "code",
      "metadata": {
        "id": "aZI90dxvMCm0",
        "colab": {
          "base_uri": "https://localhost:8080/"
        },
        "outputId": "8c58b692-dd92-4a0f-b9b5-5b291fa98e18"
      },
      "source": [
        "# examples:\n",
        "\n",
        "# a=1, b=0, c=-1, in this case, the polynomial is x^2 - 1 and the roots are real: +/-1\n",
        "# this should print [1, 0] and [-1, 0], where the 0s represent the imaginary \n",
        "# parts of the two roots\n",
        "print(quadroot(1, 0, -1))\n",
        "\n",
        "# a=1, b=0, c=1, in this case, the polynomial is x^2 + 1 and the roots are imaginary: +/-i\n",
        "# this should print [0, 1] and [0, -1], where the 0s represent the real \n",
        "# parts\n",
        "print(quadroot(1, 0, 1))\n",
        "print(quadroot(12, 11, -13))"
      ],
      "execution_count": 81,
      "outputs": [
        {
          "output_type": "stream",
          "name": "stdout",
          "text": [
            "([1.0, 0], [-1.0, 0])\n",
            "([0.0, 1.0], [0.0, -1.0])\n",
            "([0.6789453386630151, 0], [-1.5956120053296818, 0])\n"
          ]
        }
      ]
    }
  ]
}